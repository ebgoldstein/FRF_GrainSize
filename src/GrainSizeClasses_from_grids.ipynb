{
 "cells": [
  {
   "cell_type": "code",
   "execution_count": 9,
   "id": "4b14f222",
   "metadata": {},
   "outputs": [],
   "source": [
    "import pandas as pd\n",
    "import numpy as np"
   ]
  },
  {
   "cell_type": "code",
   "execution_count": 2,
   "id": "cc71224b",
   "metadata": {},
   "outputs": [
    {
     "data": {
      "text/html": [
       "<div>\n",
       "<style scoped>\n",
       "    .dataframe tbody tr th:only-of-type {\n",
       "        vertical-align: middle;\n",
       "    }\n",
       "\n",
       "    .dataframe tbody tr th {\n",
       "        vertical-align: top;\n",
       "    }\n",
       "\n",
       "    .dataframe thead th {\n",
       "        text-align: right;\n",
       "    }\n",
       "</style>\n",
       "<table border=\"1\" class=\"dataframe\">\n",
       "  <thead>\n",
       "    <tr style=\"text-align: right;\">\n",
       "      <th></th>\n",
       "      <th>Year</th>\n",
       "      <th>Month</th>\n",
       "      <th>Day</th>\n",
       "      <th>xFRF_m</th>\n",
       "      <th>yFRF_m</th>\n",
       "      <th>d10_mm</th>\n",
       "      <th>d25_mm</th>\n",
       "      <th>d50_mm</th>\n",
       "      <th>d75_mm</th>\n",
       "      <th>d90_mm</th>\n",
       "    </tr>\n",
       "  </thead>\n",
       "  <tbody>\n",
       "    <tr>\n",
       "      <th>0</th>\n",
       "      <td>2019</td>\n",
       "      <td>10</td>\n",
       "      <td>23</td>\n",
       "      <td>60</td>\n",
       "      <td>960</td>\n",
       "      <td>0.178825</td>\n",
       "      <td>0.213750</td>\n",
       "      <td>0.256512</td>\n",
       "      <td>0.304667</td>\n",
       "      <td>0.353318</td>\n",
       "    </tr>\n",
       "    <tr>\n",
       "      <th>1</th>\n",
       "      <td>2019</td>\n",
       "      <td>10</td>\n",
       "      <td>23</td>\n",
       "      <td>63</td>\n",
       "      <td>960</td>\n",
       "      <td>0.147380</td>\n",
       "      <td>0.193518</td>\n",
       "      <td>0.281950</td>\n",
       "      <td>0.361614</td>\n",
       "      <td>0.434300</td>\n",
       "    </tr>\n",
       "    <tr>\n",
       "      <th>2</th>\n",
       "      <td>2019</td>\n",
       "      <td>10</td>\n",
       "      <td>23</td>\n",
       "      <td>66</td>\n",
       "      <td>960</td>\n",
       "      <td>0.179093</td>\n",
       "      <td>0.239900</td>\n",
       "      <td>0.303989</td>\n",
       "      <td>0.368900</td>\n",
       "      <td>0.435100</td>\n",
       "    </tr>\n",
       "    <tr>\n",
       "      <th>3</th>\n",
       "      <td>2019</td>\n",
       "      <td>10</td>\n",
       "      <td>23</td>\n",
       "      <td>69</td>\n",
       "      <td>960</td>\n",
       "      <td>0.263261</td>\n",
       "      <td>0.305400</td>\n",
       "      <td>0.357083</td>\n",
       "      <td>0.416362</td>\n",
       "      <td>0.479047</td>\n",
       "    </tr>\n",
       "    <tr>\n",
       "      <th>4</th>\n",
       "      <td>2019</td>\n",
       "      <td>10</td>\n",
       "      <td>23</td>\n",
       "      <td>72</td>\n",
       "      <td>960</td>\n",
       "      <td>0.140110</td>\n",
       "      <td>0.180164</td>\n",
       "      <td>0.238270</td>\n",
       "      <td>0.299050</td>\n",
       "      <td>0.358365</td>\n",
       "    </tr>\n",
       "  </tbody>\n",
       "</table>\n",
       "</div>"
      ],
      "text/plain": [
       "   Year  Month  Day  xFRF_m  yFRF_m    d10_mm    d25_mm    d50_mm    d75_mm  \\\n",
       "0  2019     10   23      60     960  0.178825  0.213750  0.256512  0.304667   \n",
       "1  2019     10   23      63     960  0.147380  0.193518  0.281950  0.361614   \n",
       "2  2019     10   23      66     960  0.179093  0.239900  0.303989  0.368900   \n",
       "3  2019     10   23      69     960  0.263261  0.305400  0.357083  0.416362   \n",
       "4  2019     10   23      72     960  0.140110  0.180164  0.238270  0.299050   \n",
       "\n",
       "     d90_mm  \n",
       "0  0.353318  \n",
       "1  0.434300  \n",
       "2  0.435100  \n",
       "3  0.479047  \n",
       "4  0.358365  "
      ]
     },
     "execution_count": 2,
     "metadata": {},
     "output_type": "execute_result"
    }
   ],
   "source": [
    "#load in the grainsize timeseries\n",
    "GS = pd.read_excel('../data/GrainSize/FRF_GrainSize.xlsx')\n",
    "#print(GS.info())\n",
    "GS.head()"
   ]
  },
  {
   "cell_type": "code",
   "execution_count": 11,
   "id": "bdb0a2e8",
   "metadata": {},
   "outputs": [
    {
     "data": {
      "text/plain": [
       "'../data/AeolisGrids/ML_grids/20191023.txt'"
      ]
     },
     "execution_count": 11,
     "metadata": {},
     "output_type": "execute_result"
    }
   ],
   "source": [
    "#open text file of the scene based on the Year, Month, Day\n",
    "#for examples: ../data/AeolisGrids/ML_grids/20191023.txt\n",
    "GS['gridname'] = '../data/AeolisGrids/ML_grids/' + GS['Year'].astype('string') + GS['Month'].astype('string') +  GS['Day'].astype('string') +'.txt'\n",
    "GS['gridname'][0]\n"
   ]
  },
  {
   "cell_type": "code",
   "execution_count": 16,
   "id": "d8fa6147",
   "metadata": {},
   "outputs": [
    {
     "name": "stdout",
     "output_type": "stream",
     "text": [
      "[[0. 0. 0. ... 3. 3. 3.]\n",
      " [0. 0. 0. ... 3. 3. 3.]\n",
      " [0. 0. 0. ... 3. 3. 3.]\n",
      " ...\n",
      " [0. 0. 3. ... 3. 3. 3.]\n",
      " [0. 0. 3. ... 3. 3. 3.]\n",
      " [0. 0. 3. ... 3. 3. 3.]]\n",
      "(251, 81)\n"
     ]
    }
   ],
   "source": [
    "grid = np.loadtxt(GS['gridname'][0])\n",
    "print(grid)\n",
    "print(grid.shape)"
   ]
  },
  {
   "cell_type": "code",
   "execution_count": 20,
   "id": "706bc60c",
   "metadata": {},
   "outputs": [
    {
     "name": "stdout",
     "output_type": "stream",
     "text": [
      "[ 40.  41.  42.  43.  44.  45.  46.  47.  48.  49.  50.  51.  52.  53.\n",
      "  54.  55.  56.  57.  58.  59.  60.  61.  62.  63.  64.  65.  66.  67.\n",
      "  68.  69.  70.  71.  72.  73.  74.  75.  76.  77.  78.  79.  80.  81.\n",
      "  82.  83.  84.  85.  86.  87.  88.  89.  90.  91.  92.  93.  94.  95.\n",
      "  96.  97.  98.  99. 100. 101. 102. 103. 104. 105. 106. 107. 108. 109.\n",
      " 110. 111. 112. 113. 114. 115. 116. 117. 118. 119. 120.]\n",
      "[ 800.  801.  802.  803.  804.  805.  806.  807.  808.  809.  810.  811.\n",
      "  812.  813.  814.  815.  816.  817.  818.  819.  820.  821.  822.  823.\n",
      "  824.  825.  826.  827.  828.  829.  830.  831.  832.  833.  834.  835.\n",
      "  836.  837.  838.  839.  840.  841.  842.  843.  844.  845.  846.  847.\n",
      "  848.  849.  850.  851.  852.  853.  854.  855.  856.  857.  858.  859.\n",
      "  860.  861.  862.  863.  864.  865.  866.  867.  868.  869.  870.  871.\n",
      "  872.  873.  874.  875.  876.  877.  878.  879.  880.  881.  882.  883.\n",
      "  884.  885.  886.  887.  888.  889.  890.  891.  892.  893.  894.  895.\n",
      "  896.  897.  898.  899.  900.  901.  902.  903.  904.  905.  906.  907.\n",
      "  908.  909.  910.  911.  912.  913.  914.  915.  916.  917.  918.  919.\n",
      "  920.  921.  922.  923.  924.  925.  926.  927.  928.  929.  930.  931.\n",
      "  932.  933.  934.  935.  936.  937.  938.  939.  940.  941.  942.  943.\n",
      "  944.  945.  946.  947.  948.  949.  950.  951.  952.  953.  954.  955.\n",
      "  956.  957.  958.  959.  960.  961.  962.  963.  964.  965.  966.  967.\n",
      "  968.  969.  970.  971.  972.  973.  974.  975.  976.  977.  978.  979.\n",
      "  980.  981.  982.  983.  984.  985.  986.  987.  988.  989.  990.  991.\n",
      "  992.  993.  994.  995.  996.  997.  998.  999. 1000. 1001. 1002. 1003.\n",
      " 1004. 1005. 1006. 1007. 1008. 1009. 1010. 1011. 1012. 1013. 1014. 1015.\n",
      " 1016. 1017. 1018. 1019. 1020. 1021. 1022. 1023. 1024. 1025. 1026. 1027.\n",
      " 1028. 1029. 1030. 1031. 1032. 1033. 1034. 1035. 1036. 1037. 1038. 1039.\n",
      " 1040. 1041. 1042. 1043. 1044. 1045. 1046. 1047. 1048. 1049. 1050.]\n"
     ]
    }
   ],
   "source": [
    "#find the class of the pixel at (xFRF_m, yFRF_m).. \n",
    "\n",
    "#First create the look up table to find the right index\n",
    "xgrid =np.loadtxt('../data/AeolisGrids/x.txt')\n",
    "ygrid =np.loadtxt('../data/AeolisGrids/y.txt')\n",
    "\n",
    "#get first row of x.. this tells you what column to be in\n",
    "xdim = xgrid[0, :]\n",
    "#take first column of y . this tells you what row to be in\n",
    "ydim = ygrid[:, 0]\n",
    "\n",
    "print(xdim)\n",
    "print(ydim)"
   ]
  },
  {
   "cell_type": "code",
   "execution_count": 26,
   "id": "df44b40b",
   "metadata": {},
   "outputs": [
    {
     "name": "stdout",
     "output_type": "stream",
     "text": [
      "20\n",
      "160\n"
     ]
    }
   ],
   "source": [
    "#grab the index of the array based on these look up tables.. \n",
    "#so here it is 60, 960 in this case.\n",
    "Xwhere = np.where(xdim==60)[0][0]\n",
    "Ywhere = np.where(ydim==960)[0][0]\n",
    "\n",
    "print(Xwhere)\n",
    "print(Ywhere)"
   ]
  },
  {
   "cell_type": "code",
   "execution_count": 28,
   "id": "73b19a09",
   "metadata": {},
   "outputs": [
    {
     "name": "stdout",
     "output_type": "stream",
     "text": [
      "1.0\n"
     ]
    }
   ],
   "source": [
    "#pull that value out of the array\n",
    "# 0,1 use sand    -- (0 = vegetation, 1 = sand,)\n",
    "# 2,3 use coarse  -- (2 = coarse sediment, 3 = water)\n",
    "Graincat = grid[Ywhere,Xwhere]\n",
    "print(Graincat)"
   ]
  },
  {
   "cell_type": "code",
   "execution_count": null,
   "id": "f55cd99a",
   "metadata": {},
   "outputs": [],
   "source": [
    "# put that value in the dataframe"
   ]
  },
  {
   "cell_type": "code",
   "execution_count": null,
   "id": "6923d55b",
   "metadata": {},
   "outputs": [],
   "source": [
    "#write a loop"
   ]
  },
  {
   "cell_type": "code",
   "execution_count": null,
   "id": "8a867167",
   "metadata": {},
   "outputs": [],
   "source": [
    "#make a box plot"
   ]
  },
  {
   "cell_type": "markdown",
   "id": "cd4553eb",
   "metadata": {},
   "source": [
    "Scraps"
   ]
  },
  {
   "cell_type": "code",
   "execution_count": 3,
   "id": "6c6a73ac",
   "metadata": {},
   "outputs": [
    {
     "data": {
      "text/html": [
       "<div>\n",
       "<style scoped>\n",
       "    .dataframe tbody tr th:only-of-type {\n",
       "        vertical-align: middle;\n",
       "    }\n",
       "\n",
       "    .dataframe tbody tr th {\n",
       "        vertical-align: top;\n",
       "    }\n",
       "\n",
       "    .dataframe thead th {\n",
       "        text-align: right;\n",
       "    }\n",
       "</style>\n",
       "<table border=\"1\" class=\"dataframe\">\n",
       "  <thead>\n",
       "    <tr style=\"text-align: right;\">\n",
       "      <th></th>\n",
       "      <th>ymd_ListofScenes</th>\n",
       "    </tr>\n",
       "  </thead>\n",
       "  <tbody>\n",
       "    <tr>\n",
       "      <th>0</th>\n",
       "      <td>2019_10_23</td>\n",
       "    </tr>\n",
       "    <tr>\n",
       "      <th>1</th>\n",
       "      <td>2019_10_30</td>\n",
       "    </tr>\n",
       "    <tr>\n",
       "      <th>2</th>\n",
       "      <td>2019_11_7</td>\n",
       "    </tr>\n",
       "    <tr>\n",
       "      <th>3</th>\n",
       "      <td>2019_11_14</td>\n",
       "    </tr>\n",
       "    <tr>\n",
       "      <th>4</th>\n",
       "      <td>2019_11_21</td>\n",
       "    </tr>\n",
       "  </tbody>\n",
       "</table>\n",
       "</div>"
      ],
      "text/plain": [
       "  ymd_ListofScenes\n",
       "0       2019_10_23\n",
       "1       2019_10_30\n",
       "2        2019_11_7\n",
       "3       2019_11_14\n",
       "4       2019_11_21"
      ]
     },
     "execution_count": 3,
     "metadata": {},
     "output_type": "execute_result"
    }
   ],
   "source": [
    "#just to look at the unique values\n",
    "GS['ymd'] = GS['Year'].astype('string') +'_' + GS['Month'].astype('string') +'_' +  GS['Day'].astype('string')\n",
    "sceneArray = GS['ymd'].unique()\n",
    "scenes = pd.DataFrame(sceneArray,columns = ['ymd_ListofScenes'] )\n",
    "scenes.head()"
   ]
  },
  {
   "cell_type": "code",
   "execution_count": null,
   "id": "9ccea981",
   "metadata": {},
   "outputs": [],
   "source": []
  }
 ],
 "metadata": {
  "kernelspec": {
   "display_name": "Python 3 (ipykernel)",
   "language": "python",
   "name": "python3"
  },
  "language_info": {
   "codemirror_mode": {
    "name": "ipython",
    "version": 3
   },
   "file_extension": ".py",
   "mimetype": "text/x-python",
   "name": "python",
   "nbconvert_exporter": "python",
   "pygments_lexer": "ipython3",
   "version": "3.10.2"
  }
 },
 "nbformat": 4,
 "nbformat_minor": 5
}
